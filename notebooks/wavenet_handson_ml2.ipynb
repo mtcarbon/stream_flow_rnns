{
  "cells": [
    {
      "cell_type": "code",
      "execution_count": 1,
      "metadata": {
        "id": "inZV_pNgxIDW"
      },
      "outputs": [],
      "source": [
        "import os\n",
        "from datetime import timedelta\n",
        "\n",
        "\n",
        "from google.colab import files\n",
        "import tensorflow as tf\n",
        "import tensorflow.keras as keras\n",
        "import matplotlib.pyplot as plt\n",
        "import numpy as np\n",
        "from numpy.lib.stride_tricks import sliding_window_view\n",
        "import pandas as pd\n",
        "import seaborn as sns\n",
        "import sklearn.preprocessing"
      ]
    },
    {
      "cell_type": "markdown",
      "metadata": {
        "id": "ggnyodJLn6lr"
      },
      "source": [
        "#### Load Streamflow Data"
      ]
    },
    {
      "cell_type": "code",
      "execution_count": 2,
      "metadata": {
        "colab": {
          "base_uri": "https://localhost:8080/",
          "height": 188
        },
        "id": "p2E4EKhCWEC5",
        "outputId": "8e739654-3add-4fd0-df51-3ec2cc230488"
      },
      "outputs": [
        {
          "output_type": "display_data",
          "data": {
            "text/plain": [
              "<IPython.core.display.HTML object>"
            ],
            "text/html": [
              "\n",
              "     <input type=\"file\" id=\"files-474b9fa3-8fc0-4513-a9d6-667bd1f2b3a1\" name=\"files[]\" multiple disabled\n",
              "        style=\"border:none\" />\n",
              "     <output id=\"result-474b9fa3-8fc0-4513-a9d6-667bd1f2b3a1\">\n",
              "      Upload widget is only available when the cell has been executed in the\n",
              "      current browser session. Please rerun this cell to enable.\n",
              "      </output>\n",
              "      <script>// Copyright 2017 Google LLC\n",
              "//\n",
              "// Licensed under the Apache License, Version 2.0 (the \"License\");\n",
              "// you may not use this file except in compliance with the License.\n",
              "// You may obtain a copy of the License at\n",
              "//\n",
              "//      http://www.apache.org/licenses/LICENSE-2.0\n",
              "//\n",
              "// Unless required by applicable law or agreed to in writing, software\n",
              "// distributed under the License is distributed on an \"AS IS\" BASIS,\n",
              "// WITHOUT WARRANTIES OR CONDITIONS OF ANY KIND, either express or implied.\n",
              "// See the License for the specific language governing permissions and\n",
              "// limitations under the License.\n",
              "\n",
              "/**\n",
              " * @fileoverview Helpers for google.colab Python module.\n",
              " */\n",
              "(function(scope) {\n",
              "function span(text, styleAttributes = {}) {\n",
              "  const element = document.createElement('span');\n",
              "  element.textContent = text;\n",
              "  for (const key of Object.keys(styleAttributes)) {\n",
              "    element.style[key] = styleAttributes[key];\n",
              "  }\n",
              "  return element;\n",
              "}\n",
              "\n",
              "// Max number of bytes which will be uploaded at a time.\n",
              "const MAX_PAYLOAD_SIZE = 100 * 1024;\n",
              "\n",
              "function _uploadFiles(inputId, outputId) {\n",
              "  const steps = uploadFilesStep(inputId, outputId);\n",
              "  const outputElement = document.getElementById(outputId);\n",
              "  // Cache steps on the outputElement to make it available for the next call\n",
              "  // to uploadFilesContinue from Python.\n",
              "  outputElement.steps = steps;\n",
              "\n",
              "  return _uploadFilesContinue(outputId);\n",
              "}\n",
              "\n",
              "// This is roughly an async generator (not supported in the browser yet),\n",
              "// where there are multiple asynchronous steps and the Python side is going\n",
              "// to poll for completion of each step.\n",
              "// This uses a Promise to block the python side on completion of each step,\n",
              "// then passes the result of the previous step as the input to the next step.\n",
              "function _uploadFilesContinue(outputId) {\n",
              "  const outputElement = document.getElementById(outputId);\n",
              "  const steps = outputElement.steps;\n",
              "\n",
              "  const next = steps.next(outputElement.lastPromiseValue);\n",
              "  return Promise.resolve(next.value.promise).then((value) => {\n",
              "    // Cache the last promise value to make it available to the next\n",
              "    // step of the generator.\n",
              "    outputElement.lastPromiseValue = value;\n",
              "    return next.value.response;\n",
              "  });\n",
              "}\n",
              "\n",
              "/**\n",
              " * Generator function which is called between each async step of the upload\n",
              " * process.\n",
              " * @param {string} inputId Element ID of the input file picker element.\n",
              " * @param {string} outputId Element ID of the output display.\n",
              " * @return {!Iterable<!Object>} Iterable of next steps.\n",
              " */\n",
              "function* uploadFilesStep(inputId, outputId) {\n",
              "  const inputElement = document.getElementById(inputId);\n",
              "  inputElement.disabled = false;\n",
              "\n",
              "  const outputElement = document.getElementById(outputId);\n",
              "  outputElement.innerHTML = '';\n",
              "\n",
              "  const pickedPromise = new Promise((resolve) => {\n",
              "    inputElement.addEventListener('change', (e) => {\n",
              "      resolve(e.target.files);\n",
              "    });\n",
              "  });\n",
              "\n",
              "  const cancel = document.createElement('button');\n",
              "  inputElement.parentElement.appendChild(cancel);\n",
              "  cancel.textContent = 'Cancel upload';\n",
              "  const cancelPromise = new Promise((resolve) => {\n",
              "    cancel.onclick = () => {\n",
              "      resolve(null);\n",
              "    };\n",
              "  });\n",
              "\n",
              "  // Wait for the user to pick the files.\n",
              "  const files = yield {\n",
              "    promise: Promise.race([pickedPromise, cancelPromise]),\n",
              "    response: {\n",
              "      action: 'starting',\n",
              "    }\n",
              "  };\n",
              "\n",
              "  cancel.remove();\n",
              "\n",
              "  // Disable the input element since further picks are not allowed.\n",
              "  inputElement.disabled = true;\n",
              "\n",
              "  if (!files) {\n",
              "    return {\n",
              "      response: {\n",
              "        action: 'complete',\n",
              "      }\n",
              "    };\n",
              "  }\n",
              "\n",
              "  for (const file of files) {\n",
              "    const li = document.createElement('li');\n",
              "    li.append(span(file.name, {fontWeight: 'bold'}));\n",
              "    li.append(span(\n",
              "        `(${file.type || 'n/a'}) - ${file.size} bytes, ` +\n",
              "        `last modified: ${\n",
              "            file.lastModifiedDate ? file.lastModifiedDate.toLocaleDateString() :\n",
              "                                    'n/a'} - `));\n",
              "    const percent = span('0% done');\n",
              "    li.appendChild(percent);\n",
              "\n",
              "    outputElement.appendChild(li);\n",
              "\n",
              "    const fileDataPromise = new Promise((resolve) => {\n",
              "      const reader = new FileReader();\n",
              "      reader.onload = (e) => {\n",
              "        resolve(e.target.result);\n",
              "      };\n",
              "      reader.readAsArrayBuffer(file);\n",
              "    });\n",
              "    // Wait for the data to be ready.\n",
              "    let fileData = yield {\n",
              "      promise: fileDataPromise,\n",
              "      response: {\n",
              "        action: 'continue',\n",
              "      }\n",
              "    };\n",
              "\n",
              "    // Use a chunked sending to avoid message size limits. See b/62115660.\n",
              "    let position = 0;\n",
              "    do {\n",
              "      const length = Math.min(fileData.byteLength - position, MAX_PAYLOAD_SIZE);\n",
              "      const chunk = new Uint8Array(fileData, position, length);\n",
              "      position += length;\n",
              "\n",
              "      const base64 = btoa(String.fromCharCode.apply(null, chunk));\n",
              "      yield {\n",
              "        response: {\n",
              "          action: 'append',\n",
              "          file: file.name,\n",
              "          data: base64,\n",
              "        },\n",
              "      };\n",
              "\n",
              "      let percentDone = fileData.byteLength === 0 ?\n",
              "          100 :\n",
              "          Math.round((position / fileData.byteLength) * 100);\n",
              "      percent.textContent = `${percentDone}% done`;\n",
              "\n",
              "    } while (position < fileData.byteLength);\n",
              "  }\n",
              "\n",
              "  // All done.\n",
              "  yield {\n",
              "    response: {\n",
              "      action: 'complete',\n",
              "    }\n",
              "  };\n",
              "}\n",
              "\n",
              "scope.google = scope.google || {};\n",
              "scope.google.colab = scope.google.colab || {};\n",
              "scope.google.colab._files = {\n",
              "  _uploadFiles,\n",
              "  _uploadFilesContinue,\n",
              "};\n",
              "})(self);\n",
              "</script> "
            ]
          },
          "metadata": {}
        },
        {
          "output_type": "stream",
          "name": "stdout",
          "text": [
            "Saving ZhangJiaShanRunoff1967-2017.xlsx to ZhangJiaShanRunoff1967-2017.xlsx\n",
            "Saving ZhangJiaShanDailyFlow1997-2014.xlsx to ZhangJiaShanDailyFlow1997-2014.xlsx\n",
            "Saving YangXianRunoff1967-2014.xlsx to YangXianRunoff1967-2014.xlsx\n",
            "Saving YangXianDailyFlow1997-2014.xlsx to YangXianDailyFlow1997-2014.xlsx\n"
          ]
        }
      ],
      "source": [
        "paper_proj_dir = \"/Users/mcarb/Documents/uno/2022_spring/thesis/\\\n",
        "repositories/streamflow_forcasting/DailyStreamflowForecastAutoReg\"\n",
        "paper_data_dir = os.path.join(paper_proj_dir, \"time_series\")\n",
        "\n",
        "yx_ts_fname = \"YangXianDailyFlow1997-2014.xlsx\"\n",
        "zjs_ts_fname = \"ZhangJiaShanDailyFlow1997-2014.xlsx\"\n",
        "\n",
        "yx_ts_path = os.path.join(paper_proj_dir, paper_data_dir, yx_ts_fname)\n",
        "zjs_ts_path = os.path.join(paper_proj_dir, paper_data_dir, zjs_ts_fname)\n",
        "\n",
        "uploaded = files.upload()"
      ]
    },
    {
      "cell_type": "markdown",
      "metadata": {
        "id": "PKNJr6DuW1Kg"
      },
      "source": [
        "### Explore Dataset"
      ]
    },
    {
      "cell_type": "code",
      "execution_count": 3,
      "metadata": {
        "id": "QYuUqyUFW9l2"
      },
      "outputs": [],
      "source": [
        "df = pd.read_excel(os.path.join(\"/content\", yx_ts_fname))\n",
        "df = df.iloc[:,0:2] \n",
        "df = df.set_index('TM')\n",
        "\n",
        "# Verify that the index step is daily.\n",
        "assert df.rolling('2D').count()[1:].min()[0] == 2"
      ]
    },
    {
      "cell_type": "code",
      "source": [
        "df"
      ],
      "metadata": {
        "id": "lU7Wp6_RV1NI",
        "outputId": "cc9810c7-4c0b-4c58-9a47-28f7f87ce6b1",
        "colab": {
          "base_uri": "https://localhost:8080/",
          "height": 424
        }
      },
      "execution_count": 14,
      "outputs": [
        {
          "output_type": "execute_result",
          "data": {
            "text/plain": [
              "      DailyFlow\n",
              "0          60.1\n",
              "1          59.9\n",
              "2          56.8\n",
              "3          51.0\n",
              "4          49.3\n",
              "...         ...\n",
              "6569       66.4\n",
              "6570       67.1\n",
              "6571       63.5\n",
              "6572       57.4\n",
              "6573       52.3\n",
              "\n",
              "[6574 rows x 1 columns]"
            ],
            "text/html": [
              "\n",
              "  <div id=\"df-5b7e2bbf-8ff9-4975-93a6-1b46d15d8b77\">\n",
              "    <div class=\"colab-df-container\">\n",
              "      <div>\n",
              "<style scoped>\n",
              "    .dataframe tbody tr th:only-of-type {\n",
              "        vertical-align: middle;\n",
              "    }\n",
              "\n",
              "    .dataframe tbody tr th {\n",
              "        vertical-align: top;\n",
              "    }\n",
              "\n",
              "    .dataframe thead th {\n",
              "        text-align: right;\n",
              "    }\n",
              "</style>\n",
              "<table border=\"1\" class=\"dataframe\">\n",
              "  <thead>\n",
              "    <tr style=\"text-align: right;\">\n",
              "      <th></th>\n",
              "      <th>DailyFlow</th>\n",
              "    </tr>\n",
              "  </thead>\n",
              "  <tbody>\n",
              "    <tr>\n",
              "      <th>0</th>\n",
              "      <td>60.1</td>\n",
              "    </tr>\n",
              "    <tr>\n",
              "      <th>1</th>\n",
              "      <td>59.9</td>\n",
              "    </tr>\n",
              "    <tr>\n",
              "      <th>2</th>\n",
              "      <td>56.8</td>\n",
              "    </tr>\n",
              "    <tr>\n",
              "      <th>3</th>\n",
              "      <td>51.0</td>\n",
              "    </tr>\n",
              "    <tr>\n",
              "      <th>4</th>\n",
              "      <td>49.3</td>\n",
              "    </tr>\n",
              "    <tr>\n",
              "      <th>...</th>\n",
              "      <td>...</td>\n",
              "    </tr>\n",
              "    <tr>\n",
              "      <th>6569</th>\n",
              "      <td>66.4</td>\n",
              "    </tr>\n",
              "    <tr>\n",
              "      <th>6570</th>\n",
              "      <td>67.1</td>\n",
              "    </tr>\n",
              "    <tr>\n",
              "      <th>6571</th>\n",
              "      <td>63.5</td>\n",
              "    </tr>\n",
              "    <tr>\n",
              "      <th>6572</th>\n",
              "      <td>57.4</td>\n",
              "    </tr>\n",
              "    <tr>\n",
              "      <th>6573</th>\n",
              "      <td>52.3</td>\n",
              "    </tr>\n",
              "  </tbody>\n",
              "</table>\n",
              "<p>6574 rows × 1 columns</p>\n",
              "</div>\n",
              "      <button class=\"colab-df-convert\" onclick=\"convertToInteractive('df-5b7e2bbf-8ff9-4975-93a6-1b46d15d8b77')\"\n",
              "              title=\"Convert this dataframe to an interactive table.\"\n",
              "              style=\"display:none;\">\n",
              "        \n",
              "  <svg xmlns=\"http://www.w3.org/2000/svg\" height=\"24px\"viewBox=\"0 0 24 24\"\n",
              "       width=\"24px\">\n",
              "    <path d=\"M0 0h24v24H0V0z\" fill=\"none\"/>\n",
              "    <path d=\"M18.56 5.44l.94 2.06.94-2.06 2.06-.94-2.06-.94-.94-2.06-.94 2.06-2.06.94zm-11 1L8.5 8.5l.94-2.06 2.06-.94-2.06-.94L8.5 2.5l-.94 2.06-2.06.94zm10 10l.94 2.06.94-2.06 2.06-.94-2.06-.94-.94-2.06-.94 2.06-2.06.94z\"/><path d=\"M17.41 7.96l-1.37-1.37c-.4-.4-.92-.59-1.43-.59-.52 0-1.04.2-1.43.59L10.3 9.45l-7.72 7.72c-.78.78-.78 2.05 0 2.83L4 21.41c.39.39.9.59 1.41.59.51 0 1.02-.2 1.41-.59l7.78-7.78 2.81-2.81c.8-.78.8-2.07 0-2.86zM5.41 20L4 18.59l7.72-7.72 1.47 1.35L5.41 20z\"/>\n",
              "  </svg>\n",
              "      </button>\n",
              "      \n",
              "  <style>\n",
              "    .colab-df-container {\n",
              "      display:flex;\n",
              "      flex-wrap:wrap;\n",
              "      gap: 12px;\n",
              "    }\n",
              "\n",
              "    .colab-df-convert {\n",
              "      background-color: #E8F0FE;\n",
              "      border: none;\n",
              "      border-radius: 50%;\n",
              "      cursor: pointer;\n",
              "      display: none;\n",
              "      fill: #1967D2;\n",
              "      height: 32px;\n",
              "      padding: 0 0 0 0;\n",
              "      width: 32px;\n",
              "    }\n",
              "\n",
              "    .colab-df-convert:hover {\n",
              "      background-color: #E2EBFA;\n",
              "      box-shadow: 0px 1px 2px rgba(60, 64, 67, 0.3), 0px 1px 3px 1px rgba(60, 64, 67, 0.15);\n",
              "      fill: #174EA6;\n",
              "    }\n",
              "\n",
              "    [theme=dark] .colab-df-convert {\n",
              "      background-color: #3B4455;\n",
              "      fill: #D2E3FC;\n",
              "    }\n",
              "\n",
              "    [theme=dark] .colab-df-convert:hover {\n",
              "      background-color: #434B5C;\n",
              "      box-shadow: 0px 1px 3px 1px rgba(0, 0, 0, 0.15);\n",
              "      filter: drop-shadow(0px 1px 2px rgba(0, 0, 0, 0.3));\n",
              "      fill: #FFFFFF;\n",
              "    }\n",
              "  </style>\n",
              "\n",
              "      <script>\n",
              "        const buttonEl =\n",
              "          document.querySelector('#df-5b7e2bbf-8ff9-4975-93a6-1b46d15d8b77 button.colab-df-convert');\n",
              "        buttonEl.style.display =\n",
              "          google.colab.kernel.accessAllowed ? 'block' : 'none';\n",
              "\n",
              "        async function convertToInteractive(key) {\n",
              "          const element = document.querySelector('#df-5b7e2bbf-8ff9-4975-93a6-1b46d15d8b77');\n",
              "          const dataTable =\n",
              "            await google.colab.kernel.invokeFunction('convertToInteractive',\n",
              "                                                     [key], {});\n",
              "          if (!dataTable) return;\n",
              "\n",
              "          const docLinkHtml = 'Like what you see? Visit the ' +\n",
              "            '<a target=\"_blank\" href=https://colab.research.google.com/notebooks/data_table.ipynb>data table notebook</a>'\n",
              "            + ' to learn more about interactive tables.';\n",
              "          element.innerHTML = '';\n",
              "          dataTable['output_type'] = 'display_data';\n",
              "          await google.colab.output.renderOutput(dataTable, element);\n",
              "          const docLink = document.createElement('div');\n",
              "          docLink.innerHTML = docLinkHtml;\n",
              "          element.appendChild(docLink);\n",
              "        }\n",
              "      </script>\n",
              "    </div>\n",
              "  </div>\n",
              "  "
            ]
          },
          "metadata": {},
          "execution_count": 14
        }
      ]
    },
    {
      "cell_type": "code",
      "execution_count": 4,
      "metadata": {
        "colab": {
          "base_uri": "https://localhost:8080/"
        },
        "id": "XN5MUIcws0Et",
        "outputId": "a28155b1-11c4-4793-98ab-ea58346eff63"
      },
      "outputs": [
        {
          "output_type": "execute_result",
          "data": {
            "text/plain": [
              "DailyFlow    float64\n",
              "dtype: object"
            ]
          },
          "metadata": {},
          "execution_count": 4
        }
      ],
      "source": [
        "df.dtypes"
      ]
    },
    {
      "cell_type": "markdown",
      "metadata": {
        "id": "Iwx5o3I_jWwM"
      },
      "source": [
        "### Prepare Dataset"
      ]
    },
    {
      "cell_type": "code",
      "source": [
        "np_arr = df.to_numpy().flatten()\n",
        "np_arr = sliding_window_view(np_arr, 11)\n",
        "np_arr.shape"
      ],
      "metadata": {
        "id": "94yvdAN83saI",
        "outputId": "23596563-0083-4439-f0c1-6d6bc58ff4e2",
        "colab": {
          "base_uri": "https://localhost:8080/"
        }
      },
      "execution_count": 93,
      "outputs": [
        {
          "output_type": "execute_result",
          "data": {
            "text/plain": [
              "(6564, 11)"
            ]
          },
          "metadata": {},
          "execution_count": 93
        }
      ]
    },
    {
      "cell_type": "code",
      "source": [
        "np_arr = df.to_numpy(dtype=np.float32)\n",
        "arr_len = len(np_arr)\n",
        "\n",
        "train_len = int(arr_len*.70)\n",
        "test_len = int(arr_len*.20)\n",
        " \n",
        "train = np_arr[:train_len]\n",
        "test = np_arr[train_len : train_len+test_len]\n",
        "val = np_arr[train_len+test_len:]\n",
        " \n",
        "scaler = sklearn.preprocessing.MinMaxScaler()\n",
        "scaler.fit(train)\n",
        "\n",
        "print(train.shape, test.shape, val.shape)  \n",
        "\n",
        "train = scaler.transform(train)\n",
        "test = scaler.transform(test)\n",
        "val = scaler.transform(val)"
      ],
      "metadata": {
        "id": "TsG-nNwlo5xf",
        "outputId": "38e211dc-3be2-4a12-dfc4-e2d89447d7b2",
        "colab": {
          "base_uri": "https://localhost:8080/"
        }
      },
      "execution_count": 50,
      "outputs": [
        {
          "output_type": "stream",
          "name": "stdout",
          "text": [
            "(4601, 1) (1314, 1) (659, 1)\n"
          ]
        }
      ]
    },
    {
      "cell_type": "code",
      "source": [
        "train.shape"
      ],
      "metadata": {
        "id": "ttP7KWDHwISI",
        "outputId": "b2a4f950-fafd-4d22-e369-e9213a3d1d39",
        "colab": {
          "base_uri": "https://localhost:8080/"
        }
      },
      "execution_count": 100,
      "outputs": [
        {
          "output_type": "execute_result",
          "data": {
            "text/plain": [
              "(4601, 1)"
            ]
          },
          "metadata": {},
          "execution_count": 100
        }
      ]
    },
    {
      "cell_type": "code",
      "source": [
        "np_arr = sliding_window_view(x=train, window_shape=(11, 1))\n",
        "print(np_arr.shape)\n",
        "np_arr[0]"
      ],
      "metadata": {
        "id": "kXqBEO1SvMfz",
        "outputId": "9a20ff16-b8f6-41fc-aeb8-ab9f020a7a9f",
        "colab": {
          "base_uri": "https://localhost:8080/"
        }
      },
      "execution_count": 99,
      "outputs": [
        {
          "output_type": "stream",
          "name": "stdout",
          "text": [
            "(4591, 1, 11, 1)\n"
          ]
        },
        {
          "output_type": "execute_result",
          "data": {
            "text/plain": [
              "array([[[0.00865808],\n",
              "        [0.00862547],\n",
              "        [0.00812001],\n",
              "        [0.0071743 ],\n",
              "        [0.00689711],\n",
              "        [0.00668515],\n",
              "        [0.00657101],\n",
              "        [0.0065547 ],\n",
              "        [0.00631013],\n",
              "        [0.00613077],\n",
              "        [0.00637535]]], dtype=float32)"
            ]
          },
          "metadata": {},
          "execution_count": 99
        }
      ]
    },
    {
      "cell_type": "code",
      "source": [
        "x, y = np.split(ary=np_arr, indices_or_sections=[1], axis=2)\n",
        "print(x,'\\n')\n",
        "print(x.shape, '')\n",
        "print(y,'\\n')\n",
        "print(y.shape, '\\n')"
      ],
      "metadata": {
        "id": "1M9tCh4VTBF3"
      },
      "execution_count": null,
      "outputs": []
    },
    {
      "cell_type": "code",
      "execution_count": 103,
      "metadata": {
        "id": "YziwNmCB8VXb"
      },
      "outputs": [],
      "source": [
        "def split_scale(df, pcts):\n",
        "  \"\"\"\n",
        "  Args:\n",
        "    pcts ((int, int)): percent of data to use as train and test. Total must \n",
        "      be less than 100\n",
        "    n_steps (int): number of time steps in a batch\n",
        "    steps_ahead (int): number of time steps ahead to predict\n",
        "  \"\"\"\n",
        "  np_arr = df.to_numpy(dtype=np.float32)\n",
        "  arr_len = len(np_arr)\n",
        "\n",
        "  train_len = int(arr_len*pcts[0])\n",
        "  test_len = int(arr_len*pcts[1])\n",
        "\n",
        "  train = np_arr[:train_len]\n",
        "  test = np_arr[train_len : train_len+test_len]\n",
        "  val = np_arr[train_len+test_len:]\n",
        "  \n",
        "  scaler = sklearn.preprocessing.MinMaxScaler()\n",
        "  scaler.fit(train)\n",
        "  \n",
        "  train = scaler.transform(train).flatten()\n",
        "  test = scaler.transform(test).flatten()\n",
        "  val = scaler.transform(val).flatten()\n",
        "  \n",
        "  return train, test, val, scaler"
      ]
    },
    {
      "cell_type": "code",
      "source": [
        "train, test, val, scaler = split_scale(df, (.70, .20))"
      ],
      "metadata": {
        "id": "iC1NhheynWuE"
      },
      "execution_count": 104,
      "outputs": []
    },
    {
      "cell_type": "code",
      "source": [
        "def create_ds(np_arr, steps_ahead, bs):\n",
        "  np_arr = sliding_window_view(x=np_arr, window_shape=1+steps_ahead)\n",
        "  x, y = np.split(ary=np_arr, indices_or_sections=[1], axis=1)\n",
        "  \n",
        "  ds = tf.data.Dataset.from_tensor_slices((x, y))\n",
        "  ds = ds.batch(batch_size=bs)\n",
        "\n",
        "  return ds\n"
      ],
      "metadata": {
        "id": "z7mhS47Em4ZF"
      },
      "execution_count": 119,
      "outputs": []
    },
    {
      "cell_type": "code",
      "source": [
        "steps_ahead = 10\n",
        "batch_size = 32\n",
        "\n",
        "train_ds = create_ds(train, steps_ahead, batch_size)\n",
        "test_ds = create_ds(test, steps_ahead, batch_size)\n",
        "val_ds = create_ds(val, steps_ahead, batch_size)\n"
      ],
      "metadata": {
        "id": "PB_lG5ptnOsg"
      },
      "execution_count": 122,
      "outputs": []
    },
    {
      "cell_type": "code",
      "execution_count": null,
      "metadata": {
        "id": "4R2Ikng7LIoy"
      },
      "outputs": [],
      "source": [
        "train_ds, test_ds, val_ds, scaler = generate_time_series(df, (.70, .20), 32, 50, 10)"
      ]
    },
    {
      "cell_type": "code",
      "execution_count": null,
      "metadata": {
        "colab": {
          "base_uri": "https://localhost:8080/"
        },
        "id": "232Wp1IN9YZ_",
        "outputId": "b3c6bca3-033d-4267-dc4a-d84e7fc164b9"
      },
      "outputs": [
        {
          "name": "stdout",
          "output_type": "stream",
          "text": [
            "141\n"
          ]
        }
      ],
      "source": [
        "i = 0\n",
        "for e in train_ds:\n",
        "  i+=1  \n",
        "print(i)"
      ]
    },
    {
      "cell_type": "markdown",
      "metadata": {
        "id": "94eQ9_4Nl2me"
      },
      "source": [
        "### Prepare Model"
      ]
    },
    {
      "cell_type": "code",
      "execution_count": null,
      "metadata": {
        "id": "9Me6BmGijgLb"
      },
      "outputs": [],
      "source": [
        "class GatedActivationUnit(keras.layers.Layer):\n",
        "    def __init__(self, activation=\"tanh\", **kwargs):\n",
        "        super().__init__(**kwargs)\n",
        "        self.activation = keras.activations.get(activation)\n",
        "    def call(self, inputs):\n",
        "        n_filters = inputs.shape[-1] // 2\n",
        "        linear_output = self.activation(inputs[..., :n_filters])\n",
        "        gate = keras.activations.sigmoid(inputs[..., n_filters:])\n",
        "        return self.activation(linear_output) * gate\n"
      ]
    },
    {
      "cell_type": "code",
      "execution_count": null,
      "metadata": {
        "id": "uN4GeXUMok1z"
      },
      "outputs": [],
      "source": [
        "def wavenet_residual_block(inputs, n_filters, dilation_rate):\n",
        "    z = keras.layers.Conv1D(2 * n_filters, kernel_size=2, padding=\"causal\",\n",
        "                            dilation_rate=dilation_rate)(inputs)\n",
        "    z = GatedActivationUnit()(z)\n",
        "    z = keras.layers.Conv1D(n_filters, kernel_size=1)(z)\n",
        "    return keras.layers.Add()([z, inputs]), z"
      ]
    },
    {
      "cell_type": "code",
      "execution_count": null,
      "metadata": {
        "id": "Ll0KuSM1vQ3p"
      },
      "outputs": [],
      "source": [
        "def last_time_step_mse(Y_true, Y_pred):\n",
        "    return keras.metrics.mean_squared_error(Y_true[:, -1], Y_pred[:, -1])"
      ]
    },
    {
      "cell_type": "code",
      "execution_count": null,
      "metadata": {
        "id": "lGZFJSQz4uTv"
      },
      "outputs": [],
      "source": [
        "keras.backend.clear_session()\n",
        "np.random.seed(42)\n",
        "tf.random.set_seed(42)\n",
        "\n",
        "n_layers_per_block = 3 # 10 in the paper\n",
        "n_blocks = 1 # 3 in the paper\n",
        "n_filters = 32 # 128 in the paper\n",
        "n_outputs = 10 # 256 in the paper\n",
        "\n",
        "inputs = keras.layers.Input(shape=[None, 1])\n",
        "z = keras.layers.Conv1D(n_filters, kernel_size=2, padding=\"causal\")(inputs)\n",
        "skip_to_last = []\n",
        "for dilation_rate in [2**i for i in range(n_layers_per_block)] * n_blocks:\n",
        "    z, skip = wavenet_residual_block(z, n_filters, dilation_rate)\n",
        "    skip_to_last.append(skip)\n",
        "z = keras.activations.relu(keras.layers.Add()(skip_to_last))\n",
        "z = keras.layers.Conv1D(n_filters, kernel_size=1, activation=\"relu\")(z)\n",
        "Y_proba = keras.layers.Conv1D(n_outputs, kernel_size=1, activation=\"softmax\")(z)\n",
        "\n",
        "model = keras.models.Model(inputs=[inputs], outputs=[Y_proba])"
      ]
    },
    {
      "cell_type": "code",
      "execution_count": null,
      "metadata": {
        "colab": {
          "base_uri": "https://localhost:8080/"
        },
        "id": "hzmeB_W4TYJm",
        "outputId": "721347a2-c53e-4b65-9aa7-b9f6dfccbd4b"
      },
      "outputs": [
        {
          "output_type": "stream",
          "name": "stdout",
          "text": [
            "Model: \"model\"\n",
            "__________________________________________________________________________________________________\n",
            " Layer (type)                   Output Shape         Param #     Connected to                     \n",
            "==================================================================================================\n",
            " input_1 (InputLayer)           [(None, None, 1)]    0           []                               \n",
            "                                                                                                  \n",
            " conv1d (Conv1D)                (None, None, 32)     96          ['input_1[0][0]']                \n",
            "                                                                                                  \n",
            " conv1d_1 (Conv1D)              (None, None, 64)     4160        ['conv1d[0][0]']                 \n",
            "                                                                                                  \n",
            " gated_activation_unit (GatedAc  (None, None, 32)    0           ['conv1d_1[0][0]']               \n",
            " tivationUnit)                                                                                    \n",
            "                                                                                                  \n",
            " conv1d_2 (Conv1D)              (None, None, 32)     1056        ['gated_activation_unit[0][0]']  \n",
            "                                                                                                  \n",
            " add (Add)                      (None, None, 32)     0           ['conv1d_2[0][0]',               \n",
            "                                                                  'conv1d[0][0]']                 \n",
            "                                                                                                  \n",
            " conv1d_3 (Conv1D)              (None, None, 64)     4160        ['add[0][0]']                    \n",
            "                                                                                                  \n",
            " gated_activation_unit_1 (Gated  (None, None, 32)    0           ['conv1d_3[0][0]']               \n",
            " ActivationUnit)                                                                                  \n",
            "                                                                                                  \n",
            " conv1d_4 (Conv1D)              (None, None, 32)     1056        ['gated_activation_unit_1[0][0]']\n",
            "                                                                                                  \n",
            " add_1 (Add)                    (None, None, 32)     0           ['conv1d_4[0][0]',               \n",
            "                                                                  'add[0][0]']                    \n",
            "                                                                                                  \n",
            " conv1d_5 (Conv1D)              (None, None, 64)     4160        ['add_1[0][0]']                  \n",
            "                                                                                                  \n",
            " gated_activation_unit_2 (Gated  (None, None, 32)    0           ['conv1d_5[0][0]']               \n",
            " ActivationUnit)                                                                                  \n",
            "                                                                                                  \n",
            " conv1d_6 (Conv1D)              (None, None, 32)     1056        ['gated_activation_unit_2[0][0]']\n",
            "                                                                                                  \n",
            " add_3 (Add)                    (None, None, 32)     0           ['conv1d_2[0][0]',               \n",
            "                                                                  'conv1d_4[0][0]',               \n",
            "                                                                  'conv1d_6[0][0]']               \n",
            "                                                                                                  \n",
            " tf.nn.relu (TFOpLambda)        (None, None, 32)     0           ['add_3[0][0]']                  \n",
            "                                                                                                  \n",
            " conv1d_7 (Conv1D)              (None, None, 32)     1056        ['tf.nn.relu[0][0]']             \n",
            "                                                                                                  \n",
            " conv1d_8 (Conv1D)              (None, None, 10)     330         ['conv1d_7[0][0]']               \n",
            "                                                                                                  \n",
            "==================================================================================================\n",
            "Total params: 17,130\n",
            "Trainable params: 17,130\n",
            "Non-trainable params: 0\n",
            "__________________________________________________________________________________________________\n"
          ]
        }
      ],
      "source": [
        "model.summary()"
      ]
    },
    {
      "cell_type": "code",
      "execution_count": null,
      "metadata": {
        "colab": {
          "base_uri": "https://localhost:8080/",
          "height": 580
        },
        "id": "eRo6zUqZahf9",
        "outputId": "585f55cf-e002-44d5-cff4-4ca8b0abfb39"
      },
      "outputs": [
        {
          "output_type": "stream",
          "name": "stdout",
          "text": [
            "Epoch 1/1000\n",
            "141/141 [==============================] - 35s 238ms/step - loss: 0.0086 - last_time_step_mse: 0.0086 - val_loss: 0.0082 - val_last_time_step_mse: 0.0081\n",
            "Epoch 2/1000\n",
            "141/141 [==============================] - 33s 232ms/step - loss: 0.0086 - last_time_step_mse: 0.0085 - val_loss: 0.0082 - val_last_time_step_mse: 0.0081\n",
            "Epoch 3/1000\n",
            "141/141 [==============================] - 31s 223ms/step - loss: 0.0086 - last_time_step_mse: 0.0085 - val_loss: 0.0082 - val_last_time_step_mse: 0.0081\n",
            "Epoch 4/1000\n",
            "141/141 [==============================] - 31s 223ms/step - loss: 0.0086 - last_time_step_mse: 0.0085 - val_loss: 0.0082 - val_last_time_step_mse: 0.0081\n",
            "Epoch 5/1000\n",
            "141/141 [==============================] - 32s 229ms/step - loss: 0.0086 - last_time_step_mse: 0.0085 - val_loss: 0.0082 - val_last_time_step_mse: 0.0081\n",
            "Epoch 6/1000\n",
            " 17/141 [==>...........................] - ETA: 27s - loss: 0.0100 - last_time_step_mse: 0.0109"
          ]
        },
        {
          "output_type": "error",
          "ename": "KeyboardInterrupt",
          "evalue": "ignored",
          "traceback": [
            "\u001b[0;31m---------------------------------------------------------------------------\u001b[0m",
            "\u001b[0;31mKeyboardInterrupt\u001b[0m                         Traceback (most recent call last)",
            "\u001b[0;32m<ipython-input-14-e5f0eebac519>\u001b[0m in \u001b[0;36m<module>\u001b[0;34m\u001b[0m\n\u001b[1;32m      1\u001b[0m \u001b[0mmodel\u001b[0m\u001b[0;34m.\u001b[0m\u001b[0mcompile\u001b[0m\u001b[0;34m(\u001b[0m\u001b[0mloss\u001b[0m\u001b[0;34m=\u001b[0m\u001b[0;34m\"mse\"\u001b[0m\u001b[0;34m,\u001b[0m \u001b[0moptimizer\u001b[0m\u001b[0;34m=\u001b[0m\u001b[0mtf\u001b[0m\u001b[0;34m.\u001b[0m\u001b[0mkeras\u001b[0m\u001b[0;34m.\u001b[0m\u001b[0moptimizers\u001b[0m\u001b[0;34m.\u001b[0m\u001b[0mAdam\u001b[0m\u001b[0;34m(\u001b[0m\u001b[0mlearning_rate\u001b[0m\u001b[0;34m=\u001b[0m\u001b[0;36m.1\u001b[0m\u001b[0;34m)\u001b[0m\u001b[0;34m,\u001b[0m \u001b[0mmetrics\u001b[0m\u001b[0;34m=\u001b[0m\u001b[0;34m[\u001b[0m\u001b[0mlast_time_step_mse\u001b[0m\u001b[0;34m]\u001b[0m\u001b[0;34m)\u001b[0m\u001b[0;34m\u001b[0m\u001b[0;34m\u001b[0m\u001b[0m\n\u001b[1;32m      2\u001b[0m history = model.fit(train_ds, epochs=1000,\n\u001b[0;32m----> 3\u001b[0;31m                     validation_data=(val_ds))\n\u001b[0m",
            "\u001b[0;32m/usr/local/lib/python3.7/dist-packages/keras/utils/traceback_utils.py\u001b[0m in \u001b[0;36merror_handler\u001b[0;34m(*args, **kwargs)\u001b[0m\n\u001b[1;32m     62\u001b[0m     \u001b[0mfiltered_tb\u001b[0m \u001b[0;34m=\u001b[0m \u001b[0;32mNone\u001b[0m\u001b[0;34m\u001b[0m\u001b[0;34m\u001b[0m\u001b[0m\n\u001b[1;32m     63\u001b[0m     \u001b[0;32mtry\u001b[0m\u001b[0;34m:\u001b[0m\u001b[0;34m\u001b[0m\u001b[0;34m\u001b[0m\u001b[0m\n\u001b[0;32m---> 64\u001b[0;31m       \u001b[0;32mreturn\u001b[0m \u001b[0mfn\u001b[0m\u001b[0;34m(\u001b[0m\u001b[0;34m*\u001b[0m\u001b[0margs\u001b[0m\u001b[0;34m,\u001b[0m \u001b[0;34m**\u001b[0m\u001b[0mkwargs\u001b[0m\u001b[0;34m)\u001b[0m\u001b[0;34m\u001b[0m\u001b[0;34m\u001b[0m\u001b[0m\n\u001b[0m\u001b[1;32m     65\u001b[0m     \u001b[0;32mexcept\u001b[0m \u001b[0mException\u001b[0m \u001b[0;32mas\u001b[0m \u001b[0me\u001b[0m\u001b[0;34m:\u001b[0m  \u001b[0;31m# pylint: disable=broad-except\u001b[0m\u001b[0;34m\u001b[0m\u001b[0;34m\u001b[0m\u001b[0m\n\u001b[1;32m     66\u001b[0m       \u001b[0mfiltered_tb\u001b[0m \u001b[0;34m=\u001b[0m \u001b[0m_process_traceback_frames\u001b[0m\u001b[0;34m(\u001b[0m\u001b[0me\u001b[0m\u001b[0;34m.\u001b[0m\u001b[0m__traceback__\u001b[0m\u001b[0;34m)\u001b[0m\u001b[0;34m\u001b[0m\u001b[0;34m\u001b[0m\u001b[0m\n",
            "\u001b[0;32m/usr/local/lib/python3.7/dist-packages/keras/engine/training.py\u001b[0m in \u001b[0;36mfit\u001b[0;34m(self, x, y, batch_size, epochs, verbose, callbacks, validation_split, validation_data, shuffle, class_weight, sample_weight, initial_epoch, steps_per_epoch, validation_steps, validation_batch_size, validation_freq, max_queue_size, workers, use_multiprocessing)\u001b[0m\n\u001b[1;32m   1382\u001b[0m                 _r=1):\n\u001b[1;32m   1383\u001b[0m               \u001b[0mcallbacks\u001b[0m\u001b[0;34m.\u001b[0m\u001b[0mon_train_batch_begin\u001b[0m\u001b[0;34m(\u001b[0m\u001b[0mstep\u001b[0m\u001b[0;34m)\u001b[0m\u001b[0;34m\u001b[0m\u001b[0;34m\u001b[0m\u001b[0m\n\u001b[0;32m-> 1384\u001b[0;31m               \u001b[0mtmp_logs\u001b[0m \u001b[0;34m=\u001b[0m \u001b[0mself\u001b[0m\u001b[0;34m.\u001b[0m\u001b[0mtrain_function\u001b[0m\u001b[0;34m(\u001b[0m\u001b[0miterator\u001b[0m\u001b[0;34m)\u001b[0m\u001b[0;34m\u001b[0m\u001b[0;34m\u001b[0m\u001b[0m\n\u001b[0m\u001b[1;32m   1385\u001b[0m               \u001b[0;32mif\u001b[0m \u001b[0mdata_handler\u001b[0m\u001b[0;34m.\u001b[0m\u001b[0mshould_sync\u001b[0m\u001b[0;34m:\u001b[0m\u001b[0;34m\u001b[0m\u001b[0;34m\u001b[0m\u001b[0m\n\u001b[1;32m   1386\u001b[0m                 \u001b[0mcontext\u001b[0m\u001b[0;34m.\u001b[0m\u001b[0masync_wait\u001b[0m\u001b[0;34m(\u001b[0m\u001b[0;34m)\u001b[0m\u001b[0;34m\u001b[0m\u001b[0;34m\u001b[0m\u001b[0m\n",
            "\u001b[0;32m/usr/local/lib/python3.7/dist-packages/tensorflow/python/util/traceback_utils.py\u001b[0m in \u001b[0;36merror_handler\u001b[0;34m(*args, **kwargs)\u001b[0m\n\u001b[1;32m    148\u001b[0m     \u001b[0mfiltered_tb\u001b[0m \u001b[0;34m=\u001b[0m \u001b[0;32mNone\u001b[0m\u001b[0;34m\u001b[0m\u001b[0;34m\u001b[0m\u001b[0m\n\u001b[1;32m    149\u001b[0m     \u001b[0;32mtry\u001b[0m\u001b[0;34m:\u001b[0m\u001b[0;34m\u001b[0m\u001b[0;34m\u001b[0m\u001b[0m\n\u001b[0;32m--> 150\u001b[0;31m       \u001b[0;32mreturn\u001b[0m \u001b[0mfn\u001b[0m\u001b[0;34m(\u001b[0m\u001b[0;34m*\u001b[0m\u001b[0margs\u001b[0m\u001b[0;34m,\u001b[0m \u001b[0;34m**\u001b[0m\u001b[0mkwargs\u001b[0m\u001b[0;34m)\u001b[0m\u001b[0;34m\u001b[0m\u001b[0;34m\u001b[0m\u001b[0m\n\u001b[0m\u001b[1;32m    151\u001b[0m     \u001b[0;32mexcept\u001b[0m \u001b[0mException\u001b[0m \u001b[0;32mas\u001b[0m \u001b[0me\u001b[0m\u001b[0;34m:\u001b[0m\u001b[0;34m\u001b[0m\u001b[0;34m\u001b[0m\u001b[0m\n\u001b[1;32m    152\u001b[0m       \u001b[0mfiltered_tb\u001b[0m \u001b[0;34m=\u001b[0m \u001b[0m_process_traceback_frames\u001b[0m\u001b[0;34m(\u001b[0m\u001b[0me\u001b[0m\u001b[0;34m.\u001b[0m\u001b[0m__traceback__\u001b[0m\u001b[0;34m)\u001b[0m\u001b[0;34m\u001b[0m\u001b[0;34m\u001b[0m\u001b[0m\n",
            "\u001b[0;32m/usr/local/lib/python3.7/dist-packages/tensorflow/python/eager/def_function.py\u001b[0m in \u001b[0;36m__call__\u001b[0;34m(self, *args, **kwds)\u001b[0m\n\u001b[1;32m    913\u001b[0m \u001b[0;34m\u001b[0m\u001b[0m\n\u001b[1;32m    914\u001b[0m       \u001b[0;32mwith\u001b[0m \u001b[0mOptionalXlaContext\u001b[0m\u001b[0;34m(\u001b[0m\u001b[0mself\u001b[0m\u001b[0;34m.\u001b[0m\u001b[0m_jit_compile\u001b[0m\u001b[0;34m)\u001b[0m\u001b[0;34m:\u001b[0m\u001b[0;34m\u001b[0m\u001b[0;34m\u001b[0m\u001b[0m\n\u001b[0;32m--> 915\u001b[0;31m         \u001b[0mresult\u001b[0m \u001b[0;34m=\u001b[0m \u001b[0mself\u001b[0m\u001b[0;34m.\u001b[0m\u001b[0m_call\u001b[0m\u001b[0;34m(\u001b[0m\u001b[0;34m*\u001b[0m\u001b[0margs\u001b[0m\u001b[0;34m,\u001b[0m \u001b[0;34m**\u001b[0m\u001b[0mkwds\u001b[0m\u001b[0;34m)\u001b[0m\u001b[0;34m\u001b[0m\u001b[0;34m\u001b[0m\u001b[0m\n\u001b[0m\u001b[1;32m    916\u001b[0m \u001b[0;34m\u001b[0m\u001b[0m\n\u001b[1;32m    917\u001b[0m       \u001b[0mnew_tracing_count\u001b[0m \u001b[0;34m=\u001b[0m \u001b[0mself\u001b[0m\u001b[0;34m.\u001b[0m\u001b[0mexperimental_get_tracing_count\u001b[0m\u001b[0;34m(\u001b[0m\u001b[0;34m)\u001b[0m\u001b[0;34m\u001b[0m\u001b[0;34m\u001b[0m\u001b[0m\n",
            "\u001b[0;32m/usr/local/lib/python3.7/dist-packages/tensorflow/python/eager/def_function.py\u001b[0m in \u001b[0;36m_call\u001b[0;34m(self, *args, **kwds)\u001b[0m\n\u001b[1;32m    945\u001b[0m       \u001b[0;31m# In this case we have created variables on the first call, so we run the\u001b[0m\u001b[0;34m\u001b[0m\u001b[0;34m\u001b[0m\u001b[0;34m\u001b[0m\u001b[0m\n\u001b[1;32m    946\u001b[0m       \u001b[0;31m# defunned version which is guaranteed to never create variables.\u001b[0m\u001b[0;34m\u001b[0m\u001b[0;34m\u001b[0m\u001b[0;34m\u001b[0m\u001b[0m\n\u001b[0;32m--> 947\u001b[0;31m       \u001b[0;32mreturn\u001b[0m \u001b[0mself\u001b[0m\u001b[0;34m.\u001b[0m\u001b[0m_stateless_fn\u001b[0m\u001b[0;34m(\u001b[0m\u001b[0;34m*\u001b[0m\u001b[0margs\u001b[0m\u001b[0;34m,\u001b[0m \u001b[0;34m**\u001b[0m\u001b[0mkwds\u001b[0m\u001b[0;34m)\u001b[0m  \u001b[0;31m# pylint: disable=not-callable\u001b[0m\u001b[0;34m\u001b[0m\u001b[0;34m\u001b[0m\u001b[0m\n\u001b[0m\u001b[1;32m    948\u001b[0m     \u001b[0;32melif\u001b[0m \u001b[0mself\u001b[0m\u001b[0;34m.\u001b[0m\u001b[0m_stateful_fn\u001b[0m \u001b[0;32mis\u001b[0m \u001b[0;32mnot\u001b[0m \u001b[0;32mNone\u001b[0m\u001b[0;34m:\u001b[0m\u001b[0;34m\u001b[0m\u001b[0;34m\u001b[0m\u001b[0m\n\u001b[1;32m    949\u001b[0m       \u001b[0;31m# Release the lock early so that multiple threads can perform the call\u001b[0m\u001b[0;34m\u001b[0m\u001b[0;34m\u001b[0m\u001b[0;34m\u001b[0m\u001b[0m\n",
            "\u001b[0;32m/usr/local/lib/python3.7/dist-packages/tensorflow/python/eager/function.py\u001b[0m in \u001b[0;36m__call__\u001b[0;34m(self, *args, **kwargs)\u001b[0m\n\u001b[1;32m   2955\u001b[0m        filtered_flat_args) = self._maybe_define_function(args, kwargs)\n\u001b[1;32m   2956\u001b[0m     return graph_function._call_flat(\n\u001b[0;32m-> 2957\u001b[0;31m         filtered_flat_args, captured_inputs=graph_function.captured_inputs)  # pylint: disable=protected-access\n\u001b[0m\u001b[1;32m   2958\u001b[0m \u001b[0;34m\u001b[0m\u001b[0m\n\u001b[1;32m   2959\u001b[0m   \u001b[0;34m@\u001b[0m\u001b[0mproperty\u001b[0m\u001b[0;34m\u001b[0m\u001b[0;34m\u001b[0m\u001b[0m\n",
            "\u001b[0;32m/usr/local/lib/python3.7/dist-packages/tensorflow/python/eager/function.py\u001b[0m in \u001b[0;36m_call_flat\u001b[0;34m(self, args, captured_inputs, cancellation_manager)\u001b[0m\n\u001b[1;32m   1852\u001b[0m       \u001b[0;31m# No tape is watching; skip to running the function.\u001b[0m\u001b[0;34m\u001b[0m\u001b[0;34m\u001b[0m\u001b[0;34m\u001b[0m\u001b[0m\n\u001b[1;32m   1853\u001b[0m       return self._build_call_outputs(self._inference_function.call(\n\u001b[0;32m-> 1854\u001b[0;31m           ctx, args, cancellation_manager=cancellation_manager))\n\u001b[0m\u001b[1;32m   1855\u001b[0m     forward_backward = self._select_forward_and_backward_functions(\n\u001b[1;32m   1856\u001b[0m         \u001b[0margs\u001b[0m\u001b[0;34m,\u001b[0m\u001b[0;34m\u001b[0m\u001b[0;34m\u001b[0m\u001b[0m\n",
            "\u001b[0;32m/usr/local/lib/python3.7/dist-packages/tensorflow/python/eager/function.py\u001b[0m in \u001b[0;36mcall\u001b[0;34m(self, ctx, args, cancellation_manager)\u001b[0m\n\u001b[1;32m    502\u001b[0m               \u001b[0minputs\u001b[0m\u001b[0;34m=\u001b[0m\u001b[0margs\u001b[0m\u001b[0;34m,\u001b[0m\u001b[0;34m\u001b[0m\u001b[0;34m\u001b[0m\u001b[0m\n\u001b[1;32m    503\u001b[0m               \u001b[0mattrs\u001b[0m\u001b[0;34m=\u001b[0m\u001b[0mattrs\u001b[0m\u001b[0;34m,\u001b[0m\u001b[0;34m\u001b[0m\u001b[0;34m\u001b[0m\u001b[0m\n\u001b[0;32m--> 504\u001b[0;31m               ctx=ctx)\n\u001b[0m\u001b[1;32m    505\u001b[0m         \u001b[0;32melse\u001b[0m\u001b[0;34m:\u001b[0m\u001b[0;34m\u001b[0m\u001b[0;34m\u001b[0m\u001b[0m\n\u001b[1;32m    506\u001b[0m           outputs = execute.execute_with_cancellation(\n",
            "\u001b[0;32m/usr/local/lib/python3.7/dist-packages/tensorflow/python/eager/execute.py\u001b[0m in \u001b[0;36mquick_execute\u001b[0;34m(op_name, num_outputs, inputs, attrs, ctx, name)\u001b[0m\n\u001b[1;32m     53\u001b[0m     \u001b[0mctx\u001b[0m\u001b[0;34m.\u001b[0m\u001b[0mensure_initialized\u001b[0m\u001b[0;34m(\u001b[0m\u001b[0;34m)\u001b[0m\u001b[0;34m\u001b[0m\u001b[0;34m\u001b[0m\u001b[0m\n\u001b[1;32m     54\u001b[0m     tensors = pywrap_tfe.TFE_Py_Execute(ctx._handle, device_name, op_name,\n\u001b[0;32m---> 55\u001b[0;31m                                         inputs, attrs, num_outputs)\n\u001b[0m\u001b[1;32m     56\u001b[0m   \u001b[0;32mexcept\u001b[0m \u001b[0mcore\u001b[0m\u001b[0;34m.\u001b[0m\u001b[0m_NotOkStatusException\u001b[0m \u001b[0;32mas\u001b[0m \u001b[0me\u001b[0m\u001b[0;34m:\u001b[0m\u001b[0;34m\u001b[0m\u001b[0;34m\u001b[0m\u001b[0m\n\u001b[1;32m     57\u001b[0m     \u001b[0;32mif\u001b[0m \u001b[0mname\u001b[0m \u001b[0;32mis\u001b[0m \u001b[0;32mnot\u001b[0m \u001b[0;32mNone\u001b[0m\u001b[0;34m:\u001b[0m\u001b[0;34m\u001b[0m\u001b[0;34m\u001b[0m\u001b[0m\n",
            "\u001b[0;31mKeyboardInterrupt\u001b[0m: "
          ]
        }
      ],
      "source": [
        "model.compile(loss=\"mse\", optimizer=tf.keras.optimizers.Adam(learning_rate=.1), metrics=[last_time_step_mse])\n",
        "history = model.fit(train_ds, epochs=1000,\n",
        "                    validation_data=(val_ds))"
      ]
    },
    {
      "cell_type": "code",
      "execution_count": null,
      "metadata": {
        "id": "x84T4vHSanrw",
        "colab": {
          "base_uri": "https://localhost:8080/"
        },
        "outputId": "5dfbd836-8e78-4f35-c6e9-3cf7371f26f0"
      },
      "outputs": [
        {
          "output_type": "stream",
          "name": "stdout",
          "text": [
            "(<tf.Tensor: shape=(32, 50, 1), dtype=float32, numpy=\n",
            "array([[[0.00865808],\n",
            "        [0.00862547],\n",
            "        [0.00812001],\n",
            "        ...,\n",
            "        [0.00557639],\n",
            "        [0.00526659],\n",
            "        [0.0052992 ]],\n",
            "\n",
            "       [[0.00862547],\n",
            "        [0.00812001],\n",
            "        [0.0071743 ],\n",
            "        ...,\n",
            "        [0.00526659],\n",
            "        [0.0052992 ],\n",
            "        [0.00536442]],\n",
            "\n",
            "       [[0.00812001],\n",
            "        [0.0071743 ],\n",
            "        [0.00689711],\n",
            "        ...,\n",
            "        [0.0052992 ],\n",
            "        [0.00536442],\n",
            "        [0.00500571]],\n",
            "\n",
            "       ...,\n",
            "\n",
            "       [[0.00583727],\n",
            "        [0.00596771],\n",
            "        [0.00600033],\n",
            "        ...,\n",
            "        [0.0208707 ],\n",
            "        [0.01858797],\n",
            "        [0.01679439]],\n",
            "\n",
            "       [[0.00596771],\n",
            "        [0.00600033],\n",
            "        [0.00606555],\n",
            "        ...,\n",
            "        [0.01858797],\n",
            "        [0.01679439],\n",
            "        [0.01581608]],\n",
            "\n",
            "       [[0.00600033],\n",
            "        [0.00606555],\n",
            "        [0.00642426],\n",
            "        ...,\n",
            "        [0.01679439],\n",
            "        [0.01581608],\n",
            "        [0.01532692]]], dtype=float32)>, <tf.Tensor: shape=(32, 50, 10), dtype=float32, numpy=\n",
            "array([[[0.00862547, 0.00812001, 0.0071743 , ..., 0.00631013,\n",
            "         0.00613077, 0.00637535],\n",
            "        [0.00812001, 0.0071743 , 0.00689711, ..., 0.00613077,\n",
            "         0.00637535, 0.00665253],\n",
            "        [0.0071743 , 0.00689711, 0.00668515, ..., 0.00637535,\n",
            "         0.00665253, 0.00657101],\n",
            "        ...,\n",
            "        [0.00526659, 0.0052992 , 0.00536442, ..., 0.00490788,\n",
            "         0.00523398, 0.00645687],\n",
            "        [0.0052992 , 0.00536442, 0.00500571, ..., 0.00523398,\n",
            "         0.00645687, 0.00948965],\n",
            "        [0.00536442, 0.00500571, 0.00484265, ..., 0.00645687,\n",
            "         0.00948965, 0.01372901]],\n",
            "\n",
            "       [[0.00812001, 0.0071743 , 0.00689711, ..., 0.00613077,\n",
            "         0.00637535, 0.00665253],\n",
            "        [0.0071743 , 0.00689711, 0.00668515, ..., 0.00637535,\n",
            "         0.00665253, 0.00657101],\n",
            "        [0.00689711, 0.00668515, 0.00657101, ..., 0.00665253,\n",
            "         0.00657101, 0.0068645 ],\n",
            "        ...,\n",
            "        [0.0052992 , 0.00536442, 0.00500571, ..., 0.00523398,\n",
            "         0.00645687, 0.00948965],\n",
            "        [0.00536442, 0.00500571, 0.00484265, ..., 0.00645687,\n",
            "         0.00948965, 0.01372901],\n",
            "        [0.00500571, 0.00484265, 0.00484265, ..., 0.00948965,\n",
            "         0.01372901, 0.01293005]],\n",
            "\n",
            "       [[0.0071743 , 0.00689711, 0.00668515, ..., 0.00637535,\n",
            "         0.00665253, 0.00657101],\n",
            "        [0.00689711, 0.00668515, 0.00657101, ..., 0.00665253,\n",
            "         0.00657101, 0.0068645 ],\n",
            "        [0.00668515, 0.00657101, 0.0065547 , ..., 0.00657101,\n",
            "         0.0068645 , 0.00798956],\n",
            "        ...,\n",
            "        [0.00536442, 0.00500571, 0.00484265, ..., 0.00645687,\n",
            "         0.00948965, 0.01372901],\n",
            "        [0.00500571, 0.00484265, 0.00484265, ..., 0.00948965,\n",
            "         0.01372901, 0.01293005],\n",
            "        [0.00484265, 0.00484265, 0.00484265, ..., 0.01372901,\n",
            "         0.01293005, 0.01095712]],\n",
            "\n",
            "       ...,\n",
            "\n",
            "       [[0.00596771, 0.00600033, 0.00606555, ..., 0.00551117,\n",
            "         0.00511984, 0.00469591],\n",
            "        [0.00600033, 0.00606555, 0.00642426, ..., 0.00511984,\n",
            "         0.00469591, 0.00464699],\n",
            "        [0.00606555, 0.00642426, 0.00666884, ..., 0.00469591,\n",
            "         0.00464699, 0.00472852],\n",
            "        ...,\n",
            "        [0.01858797, 0.01679439, 0.01581608, ..., 0.01296266,\n",
            "         0.01597913, 0.01614218],\n",
            "        [0.01679439, 0.01581608, 0.01532692, ..., 0.01597913,\n",
            "         0.01614218, 0.01548997],\n",
            "        [0.01581608, 0.01532692, 0.01351704, ..., 0.01614218,\n",
            "         0.01548997, 0.0149682 ]],\n",
            "\n",
            "       [[0.00600033, 0.00606555, 0.00642426, ..., 0.00511984,\n",
            "         0.00469591, 0.00464699],\n",
            "        [0.00606555, 0.00642426, 0.00666884, ..., 0.00469591,\n",
            "         0.00464699, 0.00472852],\n",
            "        [0.00642426, 0.00666884, 0.00650579, ..., 0.00464699,\n",
            "         0.00472852, 0.00495679],\n",
            "        ...,\n",
            "        [0.01679439, 0.01581608, 0.01532692, ..., 0.01597913,\n",
            "         0.01614218, 0.01548997],\n",
            "        [0.01581608, 0.01532692, 0.01351704, ..., 0.01614218,\n",
            "         0.01548997, 0.0149682 ],\n",
            "        [0.01532692, 0.01351704, 0.01248981, ..., 0.01548997,\n",
            "         0.0149682 , 0.01482146]],\n",
            "\n",
            "       [[0.00606555, 0.00642426, 0.00666884, ..., 0.00469591,\n",
            "         0.00464699, 0.00472852],\n",
            "        [0.00642426, 0.00666884, 0.00650579, ..., 0.00464699,\n",
            "         0.00472852, 0.00495679],\n",
            "        [0.00666884, 0.00650579, 0.00596771, ..., 0.00472852,\n",
            "         0.00495679, 0.00481004],\n",
            "        ...,\n",
            "        [0.01581608, 0.01532692, 0.01351704, ..., 0.01614218,\n",
            "         0.01548997, 0.0149682 ],\n",
            "        [0.01532692, 0.01351704, 0.01248981, ..., 0.01548997,\n",
            "         0.0149682 , 0.01482146],\n",
            "        [0.01351704, 0.01248981, 0.01302788, ..., 0.0149682 ,\n",
            "         0.01482146, 0.01472363]]], dtype=float32)>)\n"
          ]
        }
      ],
      "source": [
        "type(train_ds)\n",
        "for ds in train_ds.take(1):\n",
        "  print(ds)"
      ]
    },
    {
      "cell_type": "code",
      "source": [],
      "metadata": {
        "id": "unodR9BAjTJ-"
      },
      "execution_count": null,
      "outputs": []
    }
  ],
  "metadata": {
    "accelerator": "TPU",
    "colab": {
      "provenance": []
    },
    "gpuClass": "standard",
    "kernelspec": {
      "display_name": "Python 3",
      "name": "python3"
    },
    "language_info": {
      "name": "python"
    }
  },
  "nbformat": 4,
  "nbformat_minor": 0
}